{
  "nbformat": 4,
  "nbformat_minor": 0,
  "metadata": {
    "colab": {
      "name": "hw07.ipynb",
      "provenance": []
    },
    "kernelspec": {
      "name": "python3",
      "display_name": "Python 3"
    },
    "language_info": {
      "name": "python"
    }
  },
  "cells": [
    {
      "cell_type": "code",
      "source": [
        "! pip install pyspark"
      ],
      "metadata": {
        "colab": {
          "base_uri": "https://localhost:8080/"
        },
        "id": "YZXw_9moBiZm",
        "outputId": "f7a60908-14c9-4c7b-84b1-693631690c56"
      },
      "execution_count": 2,
      "outputs": [
        {
          "output_type": "stream",
          "name": "stdout",
          "text": [
            "Collecting pyspark\n",
            "  Downloading pyspark-3.2.1.tar.gz (281.4 MB)\n",
            "\u001b[K     |████████████████████████████████| 281.4 MB 34 kB/s \n",
            "\u001b[?25hCollecting py4j==0.10.9.3\n",
            "  Downloading py4j-0.10.9.3-py2.py3-none-any.whl (198 kB)\n",
            "\u001b[K     |████████████████████████████████| 198 kB 57.9 MB/s \n",
            "\u001b[?25hBuilding wheels for collected packages: pyspark\n",
            "  Building wheel for pyspark (setup.py) ... \u001b[?25l\u001b[?25hdone\n",
            "  Created wheel for pyspark: filename=pyspark-3.2.1-py2.py3-none-any.whl size=281853642 sha256=642f8353f95a6eee16ff76e816495ccb0bb394cb46996602ba1eb9eff1816fbe\n",
            "  Stored in directory: /root/.cache/pip/wheels/9f/f5/07/7cd8017084dce4e93e84e92efd1e1d5334db05f2e83bcef74f\n",
            "Successfully built pyspark\n",
            "Installing collected packages: py4j, pyspark\n",
            "Successfully installed py4j-0.10.9.3 pyspark-3.2.1\n"
          ]
        }
      ]
    },
    {
      "cell_type": "code",
      "source": [
        "import pyspark\n",
        "\n",
        "spark = pyspark.sql.SparkSession.builder.getOrCreate()\n",
        "sc = spark.sparkContext\n",
        "\n",
        "from pyspark.sql import SparkSession\n",
        "spark = SparkSession.builder.getOrCreate()"
      ],
      "metadata": {
        "id": "FtwTYOaXE3o5"
      },
      "execution_count": 12,
      "outputs": []
    },
    {
      "cell_type": "code",
      "execution_count": 15,
      "metadata": {
        "id": "49S0SWBOBUl0"
      },
      "outputs": [],
      "source": [
        "from pyspark.ml import Pipeline\n",
        "from pyspark.ml.classification import DecisionTreeClassifier\n",
        "from pyspark.ml.feature import StringIndexer, VectorIndexer\n",
        "from pyspark.ml.evaluation import MulticlassClassificationEvaluator\n",
        "from pyspark.mllib.util import MLUtils\n",
        "\n",
        "import pandas as pd \n",
        "\n",
        "\n",
        "# Load and parse the data file, converting it to a DataFrame.\n",
        "data = spark.read.csv(\"weatherAUS.csv\", inferSchema= True, header = True) \n"
      ]
    },
    {
      "cell_type": "code",
      "source": [
        "data = data.drop(\"Date\",\"Location\",\"Evaporation\",\"Sunshine\",\"Cloud9am\",'Cloud3pm','Temp3pm',\"Temp9am\",\"Temp3am\")"
      ],
      "metadata": {
        "id": "X2Y5MAXMFRFx"
      },
      "execution_count": 16,
      "outputs": []
    },
    {
      "cell_type": "code",
      "source": [
        "# GET RID OF NA VALUES \n",
        "\n",
        "from pyspark.sql.functions import mean\n",
        "from pyspark.sql import functions as F\n",
        "\n",
        "for i in data.columns:\n",
        "  count = data.filter(data[i]=='NA').count()\n",
        "\n",
        "numeric_column = ['MinTemp','MaxTemp', 'Rainfall','WindGustSpeed', 'WindSpeed9am', 'WindSpeed3pm','Humidity9am','Humidity3pm','Pressure9am','Pressure3pm']\n",
        "\n",
        "# calculate average\n",
        "for i in numeric_column:\n",
        "  average = data.select([mean(i)])\n",
        "\n",
        "# substitute null values with the average\n",
        "updatedmint = data.withColumn(\"MinTemp\",F.when(F.col(\"MinTemp\") == 'NA',12.2).otherwise(F.col(\"MinTemp\")))\n",
        "updatedmaxt = updatedmint.withColumn(\"MaxTemp\",F.when(F.col(\"MaxTemp\") == 'NA',23.2).otherwise(F.col(\"MaxTemp\")))\n",
        "updatedrainf = updatedmaxt.withColumn(\"Rainfall\",F.when(F.col(\"Rainfall\") == 'NA',2.3).otherwise(F.col(\"Rainfall\")))\n",
        "updatedwind = updatedrainf.withColumn(\"WindGustSpeed\",F.when(F.col(\"WindGustSpeed\") == 'NA',40.0).otherwise(F.col(\"WindGustSpeed\")))\n",
        "updatedwinds9 = updatedwind.withColumn(\"WindSpeed9am\",F.when(F.col(\"WindSpeed9am\") == 'NA',14.0).otherwise(F.col(\"WindSpeed9am\")))\n",
        "updatedwinds3 = updatedwinds9.withColumn(\"WindSpeed3pm\",F.when(F.col(\"WindSpeed3pm\") == 'NA',18.6).otherwise(F.col(\"WindSpeed3pm\")))\n",
        "updatedhum9 = updatedwinds3.withColumn(\"Humidity9am\",F.when(F.col(\"Humidity9am\") == 'NA',68.8).otherwise(F.col(\"Humidity9am\")))\n",
        "updatedhum3 = updatedhum9.withColumn(\"Humidity3pm\",F.when(F.col(\"Humidity3pm\") == 'NA',51.5).otherwise(F.col(\"Humidity3pm\")))\n",
        "updatedpres9 = updatedhum3.withColumn(\"Pressure9am\",F.when(F.col(\"Pressure9am\") == 'NA',1017.7).otherwise(F.col(\"Pressure9am\")))\n"
      ],
      "metadata": {
        "id": "XOM5d0xhG-Mj"
      },
      "execution_count": 23,
      "outputs": []
    },
    {
      "cell_type": "code",
      "source": [
        "data.printSchema()"
      ],
      "metadata": {
        "colab": {
          "base_uri": "https://localhost:8080/"
        },
        "id": "XSDVly3xFY5G",
        "outputId": "63fa1063-7459-41b3-9525-4f563e1b8c21"
      },
      "execution_count": 24,
      "outputs": [
        {
          "output_type": "stream",
          "name": "stdout",
          "text": [
            "root\n",
            " |-- MinTemp: string (nullable = true)\n",
            " |-- MaxTemp: string (nullable = true)\n",
            " |-- Rainfall: string (nullable = true)\n",
            " |-- WindGustDir: string (nullable = true)\n",
            " |-- WindGustSpeed: string (nullable = true)\n",
            " |-- WindDir9am: string (nullable = true)\n",
            " |-- WindDir3pm: string (nullable = true)\n",
            " |-- WindSpeed9am: string (nullable = true)\n",
            " |-- WindSpeed3pm: string (nullable = true)\n",
            " |-- Humidity9am: string (nullable = true)\n",
            " |-- Humidity3pm: string (nullable = true)\n",
            " |-- Pressure9am: string (nullable = true)\n",
            " |-- Pressure3pm: string (nullable = true)\n",
            " |-- RainToday: string (nullable = true)\n",
            " |-- RainTomorrow: string (nullable = true)\n",
            "\n"
          ]
        }
      ]
    },
    {
      "cell_type": "code",
      "source": [
        "data.show()"
      ],
      "metadata": {
        "colab": {
          "base_uri": "https://localhost:8080/"
        },
        "id": "tYCojMhbGNQJ",
        "outputId": "fb0291e7-3655-483f-8356-c0b246519df1"
      },
      "execution_count": 25,
      "outputs": [
        {
          "output_type": "stream",
          "name": "stdout",
          "text": [
            "+-------+-------+--------+-----------+-------------+----------+----------+------------+------------+-----------+-----------+-----------+-----------+---------+------------+\n",
            "|MinTemp|MaxTemp|Rainfall|WindGustDir|WindGustSpeed|WindDir9am|WindDir3pm|WindSpeed9am|WindSpeed3pm|Humidity9am|Humidity3pm|Pressure9am|Pressure3pm|RainToday|RainTomorrow|\n",
            "+-------+-------+--------+-----------+-------------+----------+----------+------------+------------+-----------+-----------+-----------+-----------+---------+------------+\n",
            "|   13.4|   22.9|     0.6|          W|           44|         W|       WNW|          20|          24|         71|         22|     1007.7|     1007.1|       No|          No|\n",
            "|    7.4|   25.1|       0|        WNW|           44|       NNW|       WSW|           4|          22|         44|         25|     1010.6|     1007.8|       No|          No|\n",
            "|   12.9|   25.7|       0|        WSW|           46|         W|       WSW|          19|          26|         38|         30|     1007.6|     1008.7|       No|          No|\n",
            "|    9.2|     28|       0|         NE|           24|        SE|         E|          11|           9|         45|         16|     1017.6|     1012.8|       No|          No|\n",
            "|   17.5|   32.3|       1|          W|           41|       ENE|        NW|           7|          20|         82|         33|     1010.8|       1006|       No|          No|\n",
            "|   14.6|   29.7|     0.2|        WNW|           56|         W|         W|          19|          24|         55|         23|     1009.2|     1005.4|       No|          No|\n",
            "|   14.3|     25|       0|          W|           50|        SW|         W|          20|          24|         49|         19|     1009.6|     1008.2|       No|          No|\n",
            "|    7.7|   26.7|       0|          W|           35|       SSE|         W|           6|          17|         48|         19|     1013.4|     1010.1|       No|          No|\n",
            "|    9.7|   31.9|       0|        NNW|           80|        SE|        NW|           7|          28|         42|          9|     1008.9|     1003.6|       No|         Yes|\n",
            "|   13.1|   30.1|     1.4|          W|           28|         S|       SSE|          15|          11|         58|         27|       1007|     1005.7|      Yes|          No|\n",
            "|   13.4|   30.4|       0|          N|           30|       SSE|       ESE|          17|           6|         48|         22|     1011.8|     1008.7|       No|         Yes|\n",
            "|   15.9|   21.7|     2.2|        NNE|           31|        NE|       ENE|          15|          13|         89|         91|     1010.5|     1004.2|      Yes|         Yes|\n",
            "|   15.9|   18.6|    15.6|          W|           61|       NNW|       NNW|          28|          28|         76|         93|      994.3|        993|      Yes|         Yes|\n",
            "|   12.6|     21|     3.6|         SW|           44|         W|       SSW|          24|          20|         65|         43|     1001.2|     1001.8|      Yes|          No|\n",
            "|    8.4|   24.6|       0|         NA|           NA|         S|       WNW|           4|          30|         57|         32|     1009.7|     1008.7|       No|          NA|\n",
            "|    9.8|   27.7|      NA|        WNW|           50|        NA|       WNW|          NA|          22|         50|         28|     1013.4|     1010.3|       NA|          No|\n",
            "|   14.1|   20.9|       0|        ENE|           22|       SSW|         E|          11|           9|         69|         82|     1012.2|     1010.4|       No|         Yes|\n",
            "|   13.5|   22.9|    16.8|          W|           63|         N|       WNW|           6|          20|         80|         65|     1005.8|     1002.2|      Yes|         Yes|\n",
            "|   11.2|   22.5|    10.6|        SSE|           43|       WSW|        SW|          24|          17|         47|         32|     1009.4|     1009.7|      Yes|          No|\n",
            "|    9.8|   25.6|       0|        SSE|           26|        SE|       NNW|          17|           6|         45|         26|     1019.2|     1017.1|       No|          No|\n",
            "+-------+-------+--------+-----------+-------------+----------+----------+------------+------------+-----------+-----------+-----------+-----------+---------+------------+\n",
            "only showing top 20 rows\n",
            "\n"
          ]
        }
      ]
    },
    {
      "cell_type": "code",
      "source": [
        "data.distinct().show()"
      ],
      "metadata": {
        "colab": {
          "base_uri": "https://localhost:8080/"
        },
        "id": "_p5Bxu2yGjx3",
        "outputId": "90749b3d-24d1-46aa-b9d5-fc244c88faaa"
      },
      "execution_count": 26,
      "outputs": [
        {
          "output_type": "stream",
          "name": "stdout",
          "text": [
            "+-------+-------+--------+-----------+-------------+----------+----------+------------+------------+-----------+-----------+-----------+-----------+---------+------------+\n",
            "|MinTemp|MaxTemp|Rainfall|WindGustDir|WindGustSpeed|WindDir9am|WindDir3pm|WindSpeed9am|WindSpeed3pm|Humidity9am|Humidity3pm|Pressure9am|Pressure3pm|RainToday|RainTomorrow|\n",
            "+-------+-------+--------+-----------+-------------+----------+----------+------------+------------+-----------+-----------+-----------+-----------+---------+------------+\n",
            "|    4.7|   12.2|       0|        NNW|           24|       ESE|         N|           2|          13|         99|         75|     1015.5|     1012.7|       No|         Yes|\n",
            "|    1.6|   17.2|       0|          S|           20|       ESE|         S|           6|           7|         68|         44|     1022.5|     1019.1|       No|          No|\n",
            "|   10.6|   24.7|       0|         NE|           33|        NA|       ENE|           0|          20|         75|         40|     1017.9|     1013.3|       No|         Yes|\n",
            "|      3|   15.6|       0|        WSW|           43|       WNW|       WSW|           9|          20|         77|         47|     1012.5|     1014.8|       No|          No|\n",
            "|    5.2|   16.3|       0|        ESE|           20|       ESE|       ESE|           9|           9|         74|         73|     1017.6|     1013.3|       No|         Yes|\n",
            "|   16.1|   26.6|     0.6|         NW|           50|       ESE|         S|           9|          11|         70|         90|       1015|     1013.3|       No|         Yes|\n",
            "|    3.5|   16.3|       0|        ESE|           11|       SSE|         E|           4|           2|        100|         56|     1030.1|     1025.9|       No|          No|\n",
            "|   14.8|   32.7|       0|        NNE|           28|       ENE|       WNW|           9|           9|         52|         27|     1021.4|     1018.1|       No|          No|\n",
            "|   -1.5|   14.6|       0|        SSE|           24|         S|         S|           6|          11|         76|         42|       1035|     1032.3|       No|          No|\n",
            "|   17.5|   30.2|    13.4|        ENE|           37|       ESE|         S|           7|          13|         80|         48|       1011|     1007.2|      Yes|          No|\n",
            "|   10.8|   30.7|       0|        NNW|           50|       SSE|       NNW|           6|          15|         61|         30|     1022.7|     1017.7|       No|          No|\n",
            "|   11.8|   26.5|       0|          W|           31|         E|        NW|           2|          17|         67|         31|     1020.1|     1017.1|       No|          No|\n",
            "|    3.8|   15.1|       0|        NNE|           31|        SE|       NNW|           9|          19|         99|         58|     1016.4|     1011.6|       No|         Yes|\n",
            "|    0.7|   17.5|     0.2|          W|           41|        NE|       WSW|           6|          26|         80|         50|     1026.6|     1024.4|       No|          No|\n",
            "|    0.4|   12.7|       0|         SE|           15|        NA|        SE|           0|           7|         85|         50|     1037.5|     1036.1|       No|          No|\n",
            "|    9.1|   16.2|    16.6|          N|           44|         N|         N|          22|          19|         82|         52|     1009.3|     1007.9|      Yes|          No|\n",
            "|   17.1|   35.4|       0|          E|           30|       ESE|       SSE|           9|          13|         60|         26|     1016.1|     1012.9|       No|          No|\n",
            "|    1.1|   14.1|     0.2|        WSW|           28|        SW|         W|           4|          15|        100|         49|     1018.8|     1017.2|       No|          No|\n",
            "|   13.2|   25.8|       0|         NE|           30|        SW|         N|          15|          15|         72|         61|     1027.5|     1024.7|       No|          No|\n",
            "|     NA|     24|      NA|        ENE|           24|        NA|         E|          NA|          15|         NA|         64|         NA|     1024.5|       NA|          No|\n",
            "+-------+-------+--------+-----------+-------------+----------+----------+------------+------------+-----------+-----------+-----------+-----------+---------+------------+\n",
            "only showing top 20 rows\n",
            "\n"
          ]
        }
      ]
    },
    {
      "cell_type": "code",
      "source": [
        "# tbh idk whats going on, so im just gonna drop more columns....\n",
        "data = data.drop(\"MinTemp\",\"MaxTemp\",\"WindGustDir\",\"WindGustSpeed\",\"WindDir9am\",\"WindDir3pm\",\"WindSpeed9am\",\"WindSpeed3pm\",\"Humidity9am\",\"Humidity3pm\",\"Pressure9am\",\"Pressure3pm\")\n",
        "data.distinct().show()"
      ],
      "metadata": {
        "colab": {
          "base_uri": "https://localhost:8080/"
        },
        "id": "mpoxc_OkJnlg",
        "outputId": "3df366ba-c957-4a3b-bb1b-b7f1044923d1"
      },
      "execution_count": 32,
      "outputs": [
        {
          "output_type": "stream",
          "name": "stdout",
          "text": [
            "+--------+---------+------------+\n",
            "|Rainfall|RainToday|RainTomorrow|\n",
            "+--------+---------+------------+\n",
            "|     1.4|      Yes|         Yes|\n",
            "|     7.6|      Yes|         Yes|\n",
            "|      41|      Yes|          No|\n",
            "|    31.2|      Yes|         Yes|\n",
            "|    45.5|      Yes|         Yes|\n",
            "|      57|      Yes|         Yes|\n",
            "|    46.6|      Yes|         Yes|\n",
            "|     5.5|      Yes|         Yes|\n",
            "|     5.2|      Yes|          NA|\n",
            "|     0.8|       No|          NA|\n",
            "|       6|      Yes|          NA|\n",
            "|    92.2|      Yes|         Yes|\n",
            "|     9.8|      Yes|          NA|\n",
            "|      NA|       NA|          No|\n",
            "|    12.6|      Yes|          No|\n",
            "|    13.4|      Yes|          No|\n",
            "|     5.2|      Yes|         Yes|\n",
            "|     2.4|      Yes|          NA|\n",
            "|     4.6|      Yes|          NA|\n",
            "|    46.4|      Yes|          No|\n",
            "+--------+---------+------------+\n",
            "only showing top 20 rows\n",
            "\n"
          ]
        }
      ]
    },
    {
      "cell_type": "code",
      "source": [
        "# Index labels, adding metadata to the label column.\n",
        "# Fit on whole dataset to include all labels in index.\n",
        "labelIndexer = StringIndexer(inputCols=[\"Rainfall\",\"RainToday\",\"RainTomorrow\"], \n",
        "                             outputCols=[\"rain_index\",\"today_index\",\"tomorrow_index\"]).fit(data).transform(data)"
      ],
      "metadata": {
        "id": "hEOay1STDcpy"
      },
      "execution_count": 34,
      "outputs": []
    },
    {
      "cell_type": "code",
      "source": [
        "# rain tomorrow index: yes = 1.0, no = 0.0, NA = 2.0\n",
        "# rain today index: yes = 1.0, no = 0.0, NA = 2.0\n",
        "\n",
        "labelIndexer.show()"
      ],
      "metadata": {
        "colab": {
          "base_uri": "https://localhost:8080/"
        },
        "id": "t6dH5InmLbPq",
        "outputId": "20ab9880-f2c0-495d-9844-226be0ceea6d"
      },
      "execution_count": 35,
      "outputs": [
        {
          "output_type": "stream",
          "name": "stdout",
          "text": [
            "+--------+---------+------------+----------+-----------+--------------+\n",
            "|Rainfall|RainToday|RainTomorrow|rain_index|today_index|tomorrow_index|\n",
            "+--------+---------+------------+----------+-----------+--------------+\n",
            "|     0.6|       No|          No|       4.0|        0.0|           0.0|\n",
            "|       0|       No|          No|       0.0|        0.0|           0.0|\n",
            "|       0|       No|          No|       0.0|        0.0|           0.0|\n",
            "|       0|       No|          No|       0.0|        0.0|           0.0|\n",
            "|       1|       No|          No|       6.0|        0.0|           0.0|\n",
            "|     0.2|       No|          No|       1.0|        0.0|           0.0|\n",
            "|       0|       No|          No|       0.0|        0.0|           0.0|\n",
            "|       0|       No|          No|       0.0|        0.0|           0.0|\n",
            "|       0|       No|         Yes|       0.0|        0.0|           1.0|\n",
            "|     1.4|      Yes|          No|       8.0|        1.0|           0.0|\n",
            "|       0|       No|         Yes|       0.0|        0.0|           1.0|\n",
            "|     2.2|      Yes|         Yes|      12.0|        1.0|           1.0|\n",
            "|    15.6|      Yes|         Yes|      81.0|        1.0|           1.0|\n",
            "|     3.6|      Yes|          No|      20.0|        1.0|           0.0|\n",
            "|       0|       No|          NA|       0.0|        0.0|           2.0|\n",
            "|      NA|       NA|          No|       3.0|        2.0|           0.0|\n",
            "|       0|       No|         Yes|       0.0|        0.0|           1.0|\n",
            "|    16.8|      Yes|         Yes|      83.0|        1.0|           1.0|\n",
            "|    10.6|      Yes|          No|      57.0|        1.0|           0.0|\n",
            "|       0|       No|          No|       0.0|        0.0|           0.0|\n",
            "+--------+---------+------------+----------+-----------+--------------+\n",
            "only showing top 20 rows\n",
            "\n"
          ]
        }
      ]
    },
    {
      "cell_type": "code",
      "source": [
        "categorical_columns = ['RainToday','RainTomorrow']\n",
        "\n",
        "from pyspark.ml.feature import OneHotEncoder\n",
        "\n",
        "encoder = OneHotEncoder(inputCols=[\"rain_index\",\"today_index\",\"tomorrow_index\"],\n",
        "                        outputCols=[\"rain_onehot\",\"today_onehot\",\"tomorrow_onehot\"])\n",
        "models = encoder.fit(labelIndexer)\n",
        "encoded = models.transform(labelIndexer)\n"
      ],
      "metadata": {
        "id": "Wh68Dn1GOUYr"
      },
      "execution_count": 49,
      "outputs": []
    },
    {
      "cell_type": "code",
      "source": [
        "encoded.show()"
      ],
      "metadata": {
        "colab": {
          "base_uri": "https://localhost:8080/"
        },
        "id": "fr97FEwOSc5r",
        "outputId": "8d051696-9253-4e84-f7f1-3647e6d587ee"
      },
      "execution_count": 50,
      "outputs": [
        {
          "output_type": "stream",
          "name": "stdout",
          "text": [
            "+--------+---------+------------+----------+-----------+--------------+----------------+-------------+---------------+\n",
            "|Rainfall|RainToday|RainTomorrow|rain_index|today_index|tomorrow_index|     rain_onehot| today_onehot|tomorrow_onehot|\n",
            "+--------+---------+------------+----------+-----------+--------------+----------------+-------------+---------------+\n",
            "|     0.6|       No|          No|       4.0|        0.0|           0.0| (681,[4],[1.0])|(2,[0],[1.0])|  (2,[0],[1.0])|\n",
            "|       0|       No|          No|       0.0|        0.0|           0.0| (681,[0],[1.0])|(2,[0],[1.0])|  (2,[0],[1.0])|\n",
            "|       0|       No|          No|       0.0|        0.0|           0.0| (681,[0],[1.0])|(2,[0],[1.0])|  (2,[0],[1.0])|\n",
            "|       0|       No|          No|       0.0|        0.0|           0.0| (681,[0],[1.0])|(2,[0],[1.0])|  (2,[0],[1.0])|\n",
            "|       1|       No|          No|       6.0|        0.0|           0.0| (681,[6],[1.0])|(2,[0],[1.0])|  (2,[0],[1.0])|\n",
            "|     0.2|       No|          No|       1.0|        0.0|           0.0| (681,[1],[1.0])|(2,[0],[1.0])|  (2,[0],[1.0])|\n",
            "|       0|       No|          No|       0.0|        0.0|           0.0| (681,[0],[1.0])|(2,[0],[1.0])|  (2,[0],[1.0])|\n",
            "|       0|       No|          No|       0.0|        0.0|           0.0| (681,[0],[1.0])|(2,[0],[1.0])|  (2,[0],[1.0])|\n",
            "|       0|       No|         Yes|       0.0|        0.0|           1.0| (681,[0],[1.0])|(2,[0],[1.0])|  (2,[1],[1.0])|\n",
            "|     1.4|      Yes|          No|       8.0|        1.0|           0.0| (681,[8],[1.0])|(2,[1],[1.0])|  (2,[0],[1.0])|\n",
            "|       0|       No|         Yes|       0.0|        0.0|           1.0| (681,[0],[1.0])|(2,[0],[1.0])|  (2,[1],[1.0])|\n",
            "|     2.2|      Yes|         Yes|      12.0|        1.0|           1.0|(681,[12],[1.0])|(2,[1],[1.0])|  (2,[1],[1.0])|\n",
            "|    15.6|      Yes|         Yes|      81.0|        1.0|           1.0|(681,[81],[1.0])|(2,[1],[1.0])|  (2,[1],[1.0])|\n",
            "|     3.6|      Yes|          No|      20.0|        1.0|           0.0|(681,[20],[1.0])|(2,[1],[1.0])|  (2,[0],[1.0])|\n",
            "|       0|       No|          NA|       0.0|        0.0|           2.0| (681,[0],[1.0])|(2,[0],[1.0])|      (2,[],[])|\n",
            "|      NA|       NA|          No|       3.0|        2.0|           0.0| (681,[3],[1.0])|    (2,[],[])|  (2,[0],[1.0])|\n",
            "|       0|       No|         Yes|       0.0|        0.0|           1.0| (681,[0],[1.0])|(2,[0],[1.0])|  (2,[1],[1.0])|\n",
            "|    16.8|      Yes|         Yes|      83.0|        1.0|           1.0|(681,[83],[1.0])|(2,[1],[1.0])|  (2,[1],[1.0])|\n",
            "|    10.6|      Yes|          No|      57.0|        1.0|           0.0|(681,[57],[1.0])|(2,[1],[1.0])|  (2,[0],[1.0])|\n",
            "|       0|       No|          No|       0.0|        0.0|           0.0| (681,[0],[1.0])|(2,[0],[1.0])|  (2,[0],[1.0])|\n",
            "+--------+---------+------------+----------+-----------+--------------+----------------+-------------+---------------+\n",
            "only showing top 20 rows\n",
            "\n"
          ]
        }
      ]
    },
    {
      "cell_type": "code",
      "source": [
        "# Automatically identify categorical features, and index them.\n",
        "# We specify maxCategories so features with > 4 distinct values are treated as continuous.\n",
        "featureIndexer = VectorIndexer(inputCol=[\"RainTomorrow\"], outputCol=[\"tomorrow_index\"], maxCategories=4).fit(data)\n"
      ],
      "metadata": {
        "colab": {
          "base_uri": "https://localhost:8080/",
          "height": 433
        },
        "id": "KILVj2vlMKHN",
        "outputId": "e320bbbd-ac29-475b-dc2a-1086e880f4d2"
      },
      "execution_count": 39,
      "outputs": [
        {
          "output_type": "error",
          "ename": "TypeError",
          "evalue": "ignored",
          "traceback": [
            "\u001b[0;31m---------------------------------------------------------------------------\u001b[0m",
            "\u001b[0;31mTypeError\u001b[0m                                 Traceback (most recent call last)",
            "\u001b[0;32m/usr/local/lib/python3.7/dist-packages/pyspark/ml/param/__init__.py\u001b[0m in \u001b[0;36m_set\u001b[0;34m(self, **kwargs)\u001b[0m\n\u001b[1;32m    463\u001b[0m                 \u001b[0;32mtry\u001b[0m\u001b[0;34m:\u001b[0m\u001b[0;34m\u001b[0m\u001b[0;34m\u001b[0m\u001b[0m\n\u001b[0;32m--> 464\u001b[0;31m                     \u001b[0mvalue\u001b[0m \u001b[0;34m=\u001b[0m \u001b[0mp\u001b[0m\u001b[0;34m.\u001b[0m\u001b[0mtypeConverter\u001b[0m\u001b[0;34m(\u001b[0m\u001b[0mvalue\u001b[0m\u001b[0;34m)\u001b[0m\u001b[0;34m\u001b[0m\u001b[0;34m\u001b[0m\u001b[0m\n\u001b[0m\u001b[1;32m    465\u001b[0m                 \u001b[0;32mexcept\u001b[0m \u001b[0mTypeError\u001b[0m \u001b[0;32mas\u001b[0m \u001b[0me\u001b[0m\u001b[0;34m:\u001b[0m\u001b[0;34m\u001b[0m\u001b[0;34m\u001b[0m\u001b[0m\n",
            "\u001b[0;32m/usr/local/lib/python3.7/dist-packages/pyspark/ml/param/__init__.py\u001b[0m in \u001b[0;36mtoString\u001b[0;34m(value)\u001b[0m\n\u001b[1;32m    212\u001b[0m         \u001b[0;32melse\u001b[0m\u001b[0;34m:\u001b[0m\u001b[0;34m\u001b[0m\u001b[0;34m\u001b[0m\u001b[0m\n\u001b[0;32m--> 213\u001b[0;31m             \u001b[0;32mraise\u001b[0m \u001b[0mTypeError\u001b[0m\u001b[0;34m(\u001b[0m\u001b[0;34m\"Could not convert %s to string type\"\u001b[0m \u001b[0;34m%\u001b[0m \u001b[0mtype\u001b[0m\u001b[0;34m(\u001b[0m\u001b[0mvalue\u001b[0m\u001b[0;34m)\u001b[0m\u001b[0;34m)\u001b[0m\u001b[0;34m\u001b[0m\u001b[0;34m\u001b[0m\u001b[0m\n\u001b[0m\u001b[1;32m    214\u001b[0m \u001b[0;34m\u001b[0m\u001b[0m\n",
            "\u001b[0;31mTypeError\u001b[0m: Could not convert <class 'list'> to string type",
            "\nDuring handling of the above exception, another exception occurred:\n",
            "\u001b[0;31mTypeError\u001b[0m                                 Traceback (most recent call last)",
            "\u001b[0;32m<ipython-input-39-83dcbbb0811a>\u001b[0m in \u001b[0;36m<module>\u001b[0;34m()\u001b[0m\n\u001b[1;32m      1\u001b[0m \u001b[0;31m# Automatically identify categorical features, and index them.\u001b[0m\u001b[0;34m\u001b[0m\u001b[0;34m\u001b[0m\u001b[0;34m\u001b[0m\u001b[0m\n\u001b[1;32m      2\u001b[0m \u001b[0;31m# We specify maxCategories so features with > 4 distinct values are treated as continuous.\u001b[0m\u001b[0;34m\u001b[0m\u001b[0;34m\u001b[0m\u001b[0;34m\u001b[0m\u001b[0m\n\u001b[0;32m----> 3\u001b[0;31m \u001b[0mfeatureIndexer\u001b[0m \u001b[0;34m=\u001b[0m \u001b[0mVectorIndexer\u001b[0m\u001b[0;34m(\u001b[0m\u001b[0minputCol\u001b[0m\u001b[0;34m=\u001b[0m\u001b[0;34m[\u001b[0m\u001b[0;34m\"RainTomorrow\"\u001b[0m\u001b[0;34m]\u001b[0m\u001b[0;34m,\u001b[0m \u001b[0moutputCol\u001b[0m\u001b[0;34m=\u001b[0m\u001b[0;34m[\u001b[0m\u001b[0;34m\"tomorrow_index\"\u001b[0m\u001b[0;34m]\u001b[0m\u001b[0;34m,\u001b[0m \u001b[0mmaxCategories\u001b[0m\u001b[0;34m=\u001b[0m\u001b[0;36m4\u001b[0m\u001b[0;34m)\u001b[0m\u001b[0;34m.\u001b[0m\u001b[0mfit\u001b[0m\u001b[0;34m(\u001b[0m\u001b[0mdata\u001b[0m\u001b[0;34m)\u001b[0m\u001b[0;34m\u001b[0m\u001b[0;34m\u001b[0m\u001b[0m\n\u001b[0m",
            "\u001b[0;32m/usr/local/lib/python3.7/dist-packages/pyspark/__init__.py\u001b[0m in \u001b[0;36mwrapper\u001b[0;34m(self, *args, **kwargs)\u001b[0m\n\u001b[1;32m    112\u001b[0m             \u001b[0;32mraise\u001b[0m \u001b[0mTypeError\u001b[0m\u001b[0;34m(\u001b[0m\u001b[0;34m\"Method %s forces keyword arguments.\"\u001b[0m \u001b[0;34m%\u001b[0m \u001b[0mfunc\u001b[0m\u001b[0;34m.\u001b[0m\u001b[0m__name__\u001b[0m\u001b[0;34m)\u001b[0m\u001b[0;34m\u001b[0m\u001b[0;34m\u001b[0m\u001b[0m\n\u001b[1;32m    113\u001b[0m         \u001b[0mself\u001b[0m\u001b[0;34m.\u001b[0m\u001b[0m_input_kwargs\u001b[0m \u001b[0;34m=\u001b[0m \u001b[0mkwargs\u001b[0m\u001b[0;34m\u001b[0m\u001b[0;34m\u001b[0m\u001b[0m\n\u001b[0;32m--> 114\u001b[0;31m         \u001b[0;32mreturn\u001b[0m \u001b[0mfunc\u001b[0m\u001b[0;34m(\u001b[0m\u001b[0mself\u001b[0m\u001b[0;34m,\u001b[0m \u001b[0;34m**\u001b[0m\u001b[0mkwargs\u001b[0m\u001b[0;34m)\u001b[0m\u001b[0;34m\u001b[0m\u001b[0;34m\u001b[0m\u001b[0m\n\u001b[0m\u001b[1;32m    115\u001b[0m     \u001b[0;32mreturn\u001b[0m \u001b[0mwrapper\u001b[0m\u001b[0;34m\u001b[0m\u001b[0;34m\u001b[0m\u001b[0m\n\u001b[1;32m    116\u001b[0m \u001b[0;34m\u001b[0m\u001b[0m\n",
            "\u001b[0;32m/usr/local/lib/python3.7/dist-packages/pyspark/ml/feature.py\u001b[0m in \u001b[0;36m__init__\u001b[0;34m(self, maxCategories, inputCol, outputCol, handleInvalid)\u001b[0m\n\u001b[1;32m   4391\u001b[0m         \u001b[0mself\u001b[0m\u001b[0;34m.\u001b[0m\u001b[0m_java_obj\u001b[0m \u001b[0;34m=\u001b[0m \u001b[0mself\u001b[0m\u001b[0;34m.\u001b[0m\u001b[0m_new_java_obj\u001b[0m\u001b[0;34m(\u001b[0m\u001b[0;34m\"org.apache.spark.ml.feature.VectorIndexer\"\u001b[0m\u001b[0;34m,\u001b[0m \u001b[0mself\u001b[0m\u001b[0;34m.\u001b[0m\u001b[0muid\u001b[0m\u001b[0;34m)\u001b[0m\u001b[0;34m\u001b[0m\u001b[0;34m\u001b[0m\u001b[0m\n\u001b[1;32m   4392\u001b[0m         \u001b[0mkwargs\u001b[0m \u001b[0;34m=\u001b[0m \u001b[0mself\u001b[0m\u001b[0;34m.\u001b[0m\u001b[0m_input_kwargs\u001b[0m\u001b[0;34m\u001b[0m\u001b[0;34m\u001b[0m\u001b[0m\n\u001b[0;32m-> 4393\u001b[0;31m         \u001b[0mself\u001b[0m\u001b[0;34m.\u001b[0m\u001b[0msetParams\u001b[0m\u001b[0;34m(\u001b[0m\u001b[0;34m**\u001b[0m\u001b[0mkwargs\u001b[0m\u001b[0;34m)\u001b[0m\u001b[0;34m\u001b[0m\u001b[0;34m\u001b[0m\u001b[0m\n\u001b[0m\u001b[1;32m   4394\u001b[0m \u001b[0;34m\u001b[0m\u001b[0m\n\u001b[1;32m   4395\u001b[0m     \u001b[0;34m@\u001b[0m\u001b[0mkeyword_only\u001b[0m\u001b[0;34m\u001b[0m\u001b[0;34m\u001b[0m\u001b[0m\n",
            "\u001b[0;32m/usr/local/lib/python3.7/dist-packages/pyspark/__init__.py\u001b[0m in \u001b[0;36mwrapper\u001b[0;34m(self, *args, **kwargs)\u001b[0m\n\u001b[1;32m    112\u001b[0m             \u001b[0;32mraise\u001b[0m \u001b[0mTypeError\u001b[0m\u001b[0;34m(\u001b[0m\u001b[0;34m\"Method %s forces keyword arguments.\"\u001b[0m \u001b[0;34m%\u001b[0m \u001b[0mfunc\u001b[0m\u001b[0;34m.\u001b[0m\u001b[0m__name__\u001b[0m\u001b[0;34m)\u001b[0m\u001b[0;34m\u001b[0m\u001b[0;34m\u001b[0m\u001b[0m\n\u001b[1;32m    113\u001b[0m         \u001b[0mself\u001b[0m\u001b[0;34m.\u001b[0m\u001b[0m_input_kwargs\u001b[0m \u001b[0;34m=\u001b[0m \u001b[0mkwargs\u001b[0m\u001b[0;34m\u001b[0m\u001b[0;34m\u001b[0m\u001b[0m\n\u001b[0;32m--> 114\u001b[0;31m         \u001b[0;32mreturn\u001b[0m \u001b[0mfunc\u001b[0m\u001b[0;34m(\u001b[0m\u001b[0mself\u001b[0m\u001b[0;34m,\u001b[0m \u001b[0;34m**\u001b[0m\u001b[0mkwargs\u001b[0m\u001b[0;34m)\u001b[0m\u001b[0;34m\u001b[0m\u001b[0;34m\u001b[0m\u001b[0m\n\u001b[0m\u001b[1;32m    115\u001b[0m     \u001b[0;32mreturn\u001b[0m \u001b[0mwrapper\u001b[0m\u001b[0;34m\u001b[0m\u001b[0;34m\u001b[0m\u001b[0m\n\u001b[1;32m    116\u001b[0m \u001b[0;34m\u001b[0m\u001b[0m\n",
            "\u001b[0;32m/usr/local/lib/python3.7/dist-packages/pyspark/ml/feature.py\u001b[0m in \u001b[0;36msetParams\u001b[0;34m(self, maxCategories, inputCol, outputCol, handleInvalid)\u001b[0m\n\u001b[1;32m   4401\u001b[0m         \"\"\"\n\u001b[1;32m   4402\u001b[0m         \u001b[0mkwargs\u001b[0m \u001b[0;34m=\u001b[0m \u001b[0mself\u001b[0m\u001b[0;34m.\u001b[0m\u001b[0m_input_kwargs\u001b[0m\u001b[0;34m\u001b[0m\u001b[0;34m\u001b[0m\u001b[0m\n\u001b[0;32m-> 4403\u001b[0;31m         \u001b[0;32mreturn\u001b[0m \u001b[0mself\u001b[0m\u001b[0;34m.\u001b[0m\u001b[0m_set\u001b[0m\u001b[0;34m(\u001b[0m\u001b[0;34m**\u001b[0m\u001b[0mkwargs\u001b[0m\u001b[0;34m)\u001b[0m\u001b[0;34m\u001b[0m\u001b[0;34m\u001b[0m\u001b[0m\n\u001b[0m\u001b[1;32m   4404\u001b[0m \u001b[0;34m\u001b[0m\u001b[0m\n\u001b[1;32m   4405\u001b[0m     \u001b[0;34m@\u001b[0m\u001b[0msince\u001b[0m\u001b[0;34m(\u001b[0m\u001b[0;34m\"1.4.0\"\u001b[0m\u001b[0;34m)\u001b[0m\u001b[0;34m\u001b[0m\u001b[0;34m\u001b[0m\u001b[0m\n",
            "\u001b[0;32m/usr/local/lib/python3.7/dist-packages/pyspark/ml/param/__init__.py\u001b[0m in \u001b[0;36m_set\u001b[0;34m(self, **kwargs)\u001b[0m\n\u001b[1;32m    464\u001b[0m                     \u001b[0mvalue\u001b[0m \u001b[0;34m=\u001b[0m \u001b[0mp\u001b[0m\u001b[0;34m.\u001b[0m\u001b[0mtypeConverter\u001b[0m\u001b[0;34m(\u001b[0m\u001b[0mvalue\u001b[0m\u001b[0;34m)\u001b[0m\u001b[0;34m\u001b[0m\u001b[0;34m\u001b[0m\u001b[0m\n\u001b[1;32m    465\u001b[0m                 \u001b[0;32mexcept\u001b[0m \u001b[0mTypeError\u001b[0m \u001b[0;32mas\u001b[0m \u001b[0me\u001b[0m\u001b[0;34m:\u001b[0m\u001b[0;34m\u001b[0m\u001b[0;34m\u001b[0m\u001b[0m\n\u001b[0;32m--> 466\u001b[0;31m                     \u001b[0;32mraise\u001b[0m \u001b[0mTypeError\u001b[0m\u001b[0;34m(\u001b[0m\u001b[0;34m'Invalid param value given for param \"%s\". %s'\u001b[0m \u001b[0;34m%\u001b[0m \u001b[0;34m(\u001b[0m\u001b[0mp\u001b[0m\u001b[0;34m.\u001b[0m\u001b[0mname\u001b[0m\u001b[0;34m,\u001b[0m \u001b[0me\u001b[0m\u001b[0;34m)\u001b[0m\u001b[0;34m)\u001b[0m\u001b[0;34m\u001b[0m\u001b[0;34m\u001b[0m\u001b[0m\n\u001b[0m\u001b[1;32m    467\u001b[0m             \u001b[0mself\u001b[0m\u001b[0;34m.\u001b[0m\u001b[0m_paramMap\u001b[0m\u001b[0;34m[\u001b[0m\u001b[0mp\u001b[0m\u001b[0;34m]\u001b[0m \u001b[0;34m=\u001b[0m \u001b[0mvalue\u001b[0m\u001b[0;34m\u001b[0m\u001b[0;34m\u001b[0m\u001b[0m\n\u001b[1;32m    468\u001b[0m         \u001b[0;32mreturn\u001b[0m \u001b[0mself\u001b[0m\u001b[0;34m\u001b[0m\u001b[0;34m\u001b[0m\u001b[0m\n",
            "\u001b[0;31mTypeError\u001b[0m: Invalid param value given for param \"inputCol\". Could not convert <class 'list'> to string type"
          ]
        }
      ]
    }
  ]
}